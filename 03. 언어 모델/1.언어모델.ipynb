{
 "cells": [
  {
   "attachments": {},
   "cell_type": "markdown",
   "metadata": {},
   "source": [
    "### 언어모델 \n",
    "<hr>\n",
    "\n",
    "언어 모델이란 단어 시퀀스(문장) 에 할당하는 모델을 말합니다. 어떤 문장이 있을떄 기계가 이 문장이 적절한지 안한지를 판단할 수 있다면 기계의 자연어 처리의 성능이 뛰어나다고 할 수 있ㅅ습니다.\n"
   ]
  }
 ],
 "metadata": {
  "kernelspec": {
   "display_name": "Python 3",
   "language": "python",
   "name": "python3"
  },
  "language_info": {
   "codemirror_mode": {
    "name": "ipython",
    "version": 3
   },
   "file_extension": ".py",
   "mimetype": "text/x-python",
   "name": "python",
   "nbconvert_exporter": "python",
   "pygments_lexer": "ipython3",
   "version": "3.8.10"
  },
  "orig_nbformat": 4,
  "vscode": {
   "interpreter": {
    "hash": "916dbcbb3f70747c44a77c7bcd40155683ae19c65e1c03b4aa3499c5328201f1"
   }
  }
 },
 "nbformat": 4,
 "nbformat_minor": 2
}
