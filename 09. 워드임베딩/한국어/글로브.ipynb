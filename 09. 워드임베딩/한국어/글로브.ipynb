{
 "cells": [
  {
   "attachments": {},
   "cell_type": "markdown",
   "metadata": {},
   "source": [
    "글로브는 기존 의 카운터 기반의 lsa 와 예측기반인 word2vec 의 단점 을 지적하며 word2vec 보다 뛰어난 성능을 보여준다. "
   ]
  },
  {
   "cell_type": "markdown",
   "metadata": {},
   "source": []
  }
 ],
 "metadata": {
  "language_info": {
   "name": "python"
  },
  "orig_nbformat": 4
 },
 "nbformat": 4,
 "nbformat_minor": 2
}
