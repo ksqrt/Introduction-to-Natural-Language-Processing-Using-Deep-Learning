{
 "cells": [
  {
   "cell_type": "code",
   "execution_count": 10,
   "metadata": {},
   "outputs": [],
   "source": [
    "import numpy as np\n",
    "from tensorflow.keras.utils import to_categorical"
   ]
  },
  {
   "cell_type": "code",
   "execution_count": 11,
   "metadata": {},
   "outputs": [
    {
     "name": "stdout",
     "output_type": "stream",
     "text": [
      "\n",
      "I get on with life as a programmer,\n",
      "I like to contemplate beer.\n",
      "But when I start to daydream,\n",
      "My mind turns straight to wine.\n",
      "\n",
      "Do I love wine more than beer?\n",
      "\n",
      "I like to use words about beer.\n",
      "But when I stop my talking,\n",
      "My mind turns straight to wine.\n",
      "\n",
      "I hate bugs and errors.\n",
      "But I just think back to wine,\n",
      "And I'm happy once again.\n",
      "\n",
      "I like to hang out with programming and deep learning.\n",
      "But when left alone,\n",
      "My mind turns straight to wine.\n",
      "\n"
     ]
    }
   ],
   "source": [
    "raw_text = '''\n",
    "I get on with life as a programmer,\n",
    "I like to contemplate beer.\n",
    "But when I start to daydream,\n",
    "My mind turns straight to wine.\n",
    "\n",
    "Do I love wine more than beer?\n",
    "\n",
    "I like to use words about beer.\n",
    "But when I stop my talking,\n",
    "My mind turns straight to wine.\n",
    "\n",
    "I hate bugs and errors.\n",
    "But I just think back to wine,\n",
    "And I'm happy once again.\n",
    "\n",
    "I like to hang out with programming and deep learning.\n",
    "But when left alone,\n",
    "My mind turns straight to wine.\n",
    "'''\n",
    "print(raw_text)"
   ]
  },
  {
   "cell_type": "code",
   "execution_count": 12,
   "metadata": {},
   "outputs": [
    {
     "name": "stdout",
     "output_type": "stream",
     "text": [
      "I get on with life as a programmer, I like to contemplate beer. But when I start to daydream, My mind turns straight to wine. Do I love wine more than beer? I like to use words about beer. But when I stop my talking, My mind turns straight to wine. I hate bugs and errors. But I just think back to wine, And I'm happy once again. I like to hang out with programming and deep learning. But when left alone, My mind turns straight to wine.\n"
     ]
    }
   ],
   "source": [
    "# 문자열의 단락 없애기\n",
    "tokens = raw_text.split()\n",
    "raw_text = \" \".join(tokens)\n",
    "\n",
    "print(raw_text)\n"
   ]
  },
  {
   "cell_type": "code",
   "execution_count": 13,
   "metadata": {},
   "outputs": [
    {
     "name": "stdout",
     "output_type": "stream",
     "text": [
      "문자 집합 : [' ', \"'\", ',', '.', '?', 'A', 'B', 'D', 'I', 'M', 'a', 'b', 'c', 'd', 'e', 'f', 'g', 'h', 'i', 'j', 'k', 'l', 'm', 'n', 'o', 'p', 'r', 's', 't', 'u', 'v', 'w', 'y']\n",
      "문자 집합의 크기 : 33\n"
     ]
    }
   ],
   "source": [
    "# 중복을 제거한 문자 집합 생성\n",
    "char_vocab = sorted(list(set(raw_text)))\n",
    "vocab_size = len(char_vocab)\n",
    "print('문자 집합 :',char_vocab)\n",
    "print ('문자 집합의 크기 : {}'.format(vocab_size))"
   ]
  },
  {
   "cell_type": "code",
   "execution_count": 14,
   "metadata": {},
   "outputs": [
    {
     "name": "stdout",
     "output_type": "stream",
     "text": [
      "{' ': 0, \"'\": 1, ',': 2, '.': 3, '?': 4, 'A': 5, 'B': 6, 'D': 7, 'I': 8, 'M': 9, 'a': 10, 'b': 11, 'c': 12, 'd': 13, 'e': 14, 'f': 15, 'g': 16, 'h': 17, 'i': 18, 'j': 19, 'k': 20, 'l': 21, 'm': 22, 'n': 23, 'o': 24, 'p': 25, 'r': 26, 's': 27, 't': 28, 'u': 29, 'v': 30, 'w': 31, 'y': 32}\n"
     ]
    }
   ],
   "source": [
    "char_to_index = dict((char, index) for index, char in enumerate(char_vocab)) # 문자에 고유한 정수 인덱스 부여\n",
    "print(char_to_index)"
   ]
  },
  {
   "cell_type": "code",
   "execution_count": 15,
   "metadata": {},
   "outputs": [
    {
     "data": {
      "text/plain": [
       "437"
      ]
     },
     "execution_count": 15,
     "metadata": {},
     "output_type": "execute_result"
    }
   ],
   "source": [
    "len(raw_text)"
   ]
  },
  {
   "cell_type": "code",
   "execution_count": 19,
   "metadata": {},
   "outputs": [
    {
     "name": "stdout",
     "output_type": "stream",
     "text": [
      "총 훈련 샘플의 수 : 426\n"
     ]
    }
   ],
   "source": [
    "length =11\n",
    "sequences = []\n",
    "\n",
    "for i in range(length,len(raw_text)):\n",
    "    # 0~ 11 , 1~ 12 , 2 ~ 13 이런식으로 len까지 슬라이싱해서 append\n",
    "    seq = raw_text[i-length:i]\n",
    "    sequences.append(seq)\n",
    "\n",
    "print('총 훈련 샘플의 수 :',len(sequences))"
   ]
  },
  {
   "cell_type": "code",
   "execution_count": 22,
   "metadata": {},
   "outputs": [
    {
     "data": {
      "text/plain": [
       "[' to daydrea',\n",
       " 'to daydream',\n",
       " 'o daydream,',\n",
       " ' daydream, ',\n",
       " 'daydream, M',\n",
       " 'aydream, My',\n",
       " 'ydream, My ',\n",
       " 'dream, My m',\n",
       " 'ream, My mi',\n",
       " 'eam, My min']"
      ]
     },
     "execution_count": 22,
     "metadata": {},
     "output_type": "execute_result"
    }
   ],
   "source": [
    "sequences[80:90]"
   ]
  },
  {
   "cell_type": "code",
   "execution_count": 24,
   "metadata": {},
   "outputs": [],
   "source": [
    "# 정수 인코딩 진행하기\n",
    "encoded_sequences = []\n",
    "for sequence in sequences: # 전체 데이터에서 문장 샘플을 1개씩 꺼낸다.\n",
    "    encoded_sequence = [char_to_index[char] for char in sequence] # 문장 샘플에서 각 문자에 대해서 정수 인코딩을 수행.\n",
    "    encoded_sequences.append(encoded_sequence)"
   ]
  },
  {
   "cell_type": "code",
   "execution_count": 25,
   "metadata": {},
   "outputs": [
    {
     "data": {
      "text/plain": [
       "[[8, 0, 16, 14, 28, 0, 24, 23, 0, 31, 18],\n",
       " [0, 16, 14, 28, 0, 24, 23, 0, 31, 18, 28],\n",
       " [16, 14, 28, 0, 24, 23, 0, 31, 18, 28, 17],\n",
       " [14, 28, 0, 24, 23, 0, 31, 18, 28, 17, 0],\n",
       " [28, 0, 24, 23, 0, 31, 18, 28, 17, 0, 21]]"
      ]
     },
     "execution_count": 25,
     "metadata": {},
     "output_type": "execute_result"
    }
   ],
   "source": [
    "encoded_sequences[:5]"
   ]
  },
  {
   "cell_type": "code",
   "execution_count": 27,
   "metadata": {},
   "outputs": [],
   "source": [
    "encoded_sequences = np.array(encoded_sequences)\n",
    "\n",
    "# 맨 마지막 위치의 문자를 분리\n",
    "X_data = encoded_sequences[:,:-1]\n",
    "# 맨 마지막 위치의 문자를 저장\n",
    "y_data = encoded_sequences[:,-1]"
   ]
  },
  {
   "cell_type": "code",
   "execution_count": 32,
   "metadata": {},
   "outputs": [
    {
     "name": "stdout",
     "output_type": "stream",
     "text": [
      "[[ 8  0 16 14 28  0 24 23  0 31]\n",
      " [ 0 16 14 28  0 24 23  0 31 18]\n",
      " [16 14 28  0 24 23  0 31 18 28]\n",
      " [14 28  0 24 23  0 31 18 28 17]\n",
      " [28  0 24 23  0 31 18 28 17  0]]\n",
      "=============================\n",
      "[18 28 17  0 21]\n",
      "33\n"
     ]
    }
   ],
   "source": [
    "print(X_data[:5])\n",
    "print(\"=============================\")\n",
    "print(y_data[:5])\n",
    "\n",
    "print(vocab_size)"
   ]
  },
  {
   "cell_type": "code",
   "execution_count": 34,
   "metadata": {},
   "outputs": [],
   "source": [
    "# 원-핫 인코딩\n",
    "X_data_one_hot = [to_categorical(encoded, num_classes=vocab_size) for encoded in X_data]\n",
    "X_data_one_hot = np.array(X_data_one_hot)\n",
    "y_data_one_hot = to_categorical(y_data, num_classes=vocab_size)"
   ]
  },
  {
   "cell_type": "code",
   "execution_count": 35,
   "metadata": {},
   "outputs": [
    {
     "name": "stdout",
     "output_type": "stream",
     "text": [
      "(426, 10, 33)\n"
     ]
    }
   ],
   "source": [
    "print(X_data_one_hot.shape)"
   ]
  },
  {
   "cell_type": "code",
   "execution_count": 36,
   "metadata": {},
   "outputs": [
    {
     "name": "stderr",
     "output_type": "stream",
     "text": [
      "2023-03-15 03:42:22.665463: W tensorflow/stream_executor/platform/default/dso_loader.cc:64] Could not load dynamic library 'libcuda.so.1'; dlerror: /lib/x86_64-linux-gnu/libcuda.so.1: file too short; LD_LIBRARY_PATH: /usr/local/lib:/usr/local/nvidia/lib:/usr/local/nvidia/lib64\n",
      "2023-03-15 03:42:22.665854: W tensorflow/stream_executor/cuda/cuda_driver.cc:269] failed call to cuInit: UNKNOWN ERROR (303)\n",
      "2023-03-15 03:42:22.666017: I tensorflow/stream_executor/cuda/cuda_diagnostics.cc:156] kernel driver does not appear to be running on this host (f7f8d14d730b): /proc/driver/nvidia/version does not exist\n",
      "2023-03-15 03:42:22.668223: I tensorflow/core/platform/cpu_feature_guard.cc:193] This TensorFlow binary is optimized with oneAPI Deep Neural Network Library (oneDNN) to use the following CPU instructions in performance-critical operations:  AVX2 FMA\n",
      "To enable them in other operations, rebuild TensorFlow with the appropriate compiler flags.\n"
     ]
    },
    {
     "name": "stdout",
     "output_type": "stream",
     "text": [
      "Epoch 1/100\n",
      "14/14 - 2s - loss: 3.4698 - accuracy: 0.1221 - 2s/epoch - 109ms/step\n",
      "Epoch 2/100\n",
      "14/14 - 0s - loss: 3.3682 - accuracy: 0.1972 - 115ms/epoch - 8ms/step\n",
      "Epoch 3/100\n",
      "14/14 - 0s - loss: 3.1344 - accuracy: 0.1972 - 110ms/epoch - 8ms/step\n",
      "Epoch 4/100\n",
      "14/14 - 0s - loss: 2.9971 - accuracy: 0.1972 - 98ms/epoch - 7ms/step\n",
      "Epoch 5/100\n",
      "14/14 - 0s - loss: 2.9638 - accuracy: 0.1972 - 96ms/epoch - 7ms/step\n",
      "Epoch 6/100\n",
      "14/14 - 0s - loss: 2.9433 - accuracy: 0.1972 - 95ms/epoch - 7ms/step\n",
      "Epoch 7/100\n",
      "14/14 - 0s - loss: 2.9187 - accuracy: 0.1972 - 100ms/epoch - 7ms/step\n",
      "Epoch 8/100\n",
      "14/14 - 0s - loss: 2.9050 - accuracy: 0.1972 - 96ms/epoch - 7ms/step\n",
      "Epoch 9/100\n",
      "14/14 - 0s - loss: 2.8785 - accuracy: 0.1972 - 90ms/epoch - 6ms/step\n",
      "Epoch 10/100\n",
      "14/14 - 0s - loss: 2.8514 - accuracy: 0.1972 - 88ms/epoch - 6ms/step\n",
      "Epoch 11/100\n",
      "14/14 - 0s - loss: 2.8272 - accuracy: 0.1972 - 98ms/epoch - 7ms/step\n",
      "Epoch 12/100\n",
      "14/14 - 0s - loss: 2.7903 - accuracy: 0.1972 - 95ms/epoch - 7ms/step\n",
      "Epoch 13/100\n",
      "14/14 - 0s - loss: 2.7517 - accuracy: 0.2230 - 92ms/epoch - 7ms/step\n",
      "Epoch 14/100\n",
      "14/14 - 0s - loss: 2.7244 - accuracy: 0.2183 - 91ms/epoch - 7ms/step\n",
      "Epoch 15/100\n",
      "14/14 - 0s - loss: 2.6635 - accuracy: 0.2300 - 92ms/epoch - 7ms/step\n",
      "Epoch 16/100\n",
      "14/14 - 0s - loss: 2.6173 - accuracy: 0.2582 - 93ms/epoch - 7ms/step\n",
      "Epoch 17/100\n",
      "14/14 - 0s - loss: 2.6009 - accuracy: 0.2535 - 94ms/epoch - 7ms/step\n",
      "Epoch 18/100\n",
      "14/14 - 0s - loss: 2.5453 - accuracy: 0.2840 - 93ms/epoch - 7ms/step\n",
      "Epoch 19/100\n",
      "14/14 - 0s - loss: 2.4952 - accuracy: 0.2746 - 90ms/epoch - 6ms/step\n",
      "Epoch 20/100\n",
      "14/14 - 0s - loss: 2.4527 - accuracy: 0.3451 - 92ms/epoch - 7ms/step\n",
      "Epoch 21/100\n",
      "14/14 - 0s - loss: 2.4087 - accuracy: 0.3028 - 100ms/epoch - 7ms/step\n",
      "Epoch 22/100\n",
      "14/14 - 0s - loss: 2.3696 - accuracy: 0.3169 - 97ms/epoch - 7ms/step\n",
      "Epoch 23/100\n",
      "14/14 - 0s - loss: 2.3302 - accuracy: 0.3380 - 97ms/epoch - 7ms/step\n",
      "Epoch 24/100\n",
      "14/14 - 0s - loss: 2.2822 - accuracy: 0.3568 - 96ms/epoch - 7ms/step\n",
      "Epoch 25/100\n",
      "14/14 - 0s - loss: 2.2404 - accuracy: 0.3685 - 94ms/epoch - 7ms/step\n",
      "Epoch 26/100\n",
      "14/14 - 0s - loss: 2.2135 - accuracy: 0.3685 - 118ms/epoch - 8ms/step\n",
      "Epoch 27/100\n",
      "14/14 - 0s - loss: 2.1495 - accuracy: 0.3920 - 98ms/epoch - 7ms/step\n",
      "Epoch 28/100\n",
      "14/14 - 0s - loss: 2.1136 - accuracy: 0.3944 - 94ms/epoch - 7ms/step\n",
      "Epoch 29/100\n",
      "14/14 - 0s - loss: 2.0713 - accuracy: 0.3944 - 97ms/epoch - 7ms/step\n",
      "Epoch 30/100\n",
      "14/14 - 0s - loss: 2.0409 - accuracy: 0.4202 - 95ms/epoch - 7ms/step\n",
      "Epoch 31/100\n",
      "14/14 - 0s - loss: 1.9908 - accuracy: 0.4484 - 96ms/epoch - 7ms/step\n",
      "Epoch 32/100\n",
      "14/14 - 0s - loss: 1.9583 - accuracy: 0.4624 - 92ms/epoch - 7ms/step\n",
      "Epoch 33/100\n",
      "14/14 - 0s - loss: 1.9235 - accuracy: 0.4577 - 89ms/epoch - 6ms/step\n",
      "Epoch 34/100\n",
      "14/14 - 0s - loss: 1.8693 - accuracy: 0.4671 - 91ms/epoch - 7ms/step\n",
      "Epoch 35/100\n",
      "14/14 - 0s - loss: 1.8355 - accuracy: 0.5023 - 93ms/epoch - 7ms/step\n",
      "Epoch 36/100\n",
      "14/14 - 0s - loss: 1.8086 - accuracy: 0.4953 - 90ms/epoch - 6ms/step\n",
      "Epoch 37/100\n",
      "14/14 - 0s - loss: 1.7679 - accuracy: 0.4953 - 92ms/epoch - 7ms/step\n",
      "Epoch 38/100\n",
      "14/14 - 0s - loss: 1.7244 - accuracy: 0.5282 - 91ms/epoch - 6ms/step\n",
      "Epoch 39/100\n",
      "14/14 - 0s - loss: 1.6843 - accuracy: 0.5751 - 91ms/epoch - 7ms/step\n",
      "Epoch 40/100\n",
      "14/14 - 0s - loss: 1.6430 - accuracy: 0.5704 - 95ms/epoch - 7ms/step\n",
      "Epoch 41/100\n",
      "14/14 - 0s - loss: 1.6099 - accuracy: 0.6009 - 102ms/epoch - 7ms/step\n",
      "Epoch 42/100\n",
      "14/14 - 0s - loss: 1.5754 - accuracy: 0.5869 - 93ms/epoch - 7ms/step\n",
      "Epoch 43/100\n",
      "14/14 - 0s - loss: 1.5353 - accuracy: 0.6056 - 92ms/epoch - 7ms/step\n",
      "Epoch 44/100\n",
      "14/14 - 0s - loss: 1.5071 - accuracy: 0.6127 - 95ms/epoch - 7ms/step\n",
      "Epoch 45/100\n",
      "14/14 - 0s - loss: 1.4917 - accuracy: 0.6056 - 96ms/epoch - 7ms/step\n",
      "Epoch 46/100\n",
      "14/14 - 0s - loss: 1.4612 - accuracy: 0.6244 - 95ms/epoch - 7ms/step\n",
      "Epoch 47/100\n",
      "14/14 - 0s - loss: 1.4038 - accuracy: 0.6362 - 89ms/epoch - 6ms/step\n",
      "Epoch 48/100\n",
      "14/14 - 0s - loss: 1.3807 - accuracy: 0.6596 - 88ms/epoch - 6ms/step\n",
      "Epoch 49/100\n",
      "14/14 - 0s - loss: 1.3581 - accuracy: 0.6502 - 89ms/epoch - 6ms/step\n",
      "Epoch 50/100\n",
      "14/14 - 0s - loss: 1.3196 - accuracy: 0.6737 - 87ms/epoch - 6ms/step\n",
      "Epoch 51/100\n",
      "14/14 - 0s - loss: 1.2845 - accuracy: 0.6714 - 94ms/epoch - 7ms/step\n",
      "Epoch 52/100\n",
      "14/14 - 0s - loss: 1.2417 - accuracy: 0.6854 - 91ms/epoch - 7ms/step\n",
      "Epoch 53/100\n",
      "14/14 - 0s - loss: 1.2203 - accuracy: 0.6901 - 99ms/epoch - 7ms/step\n",
      "Epoch 54/100\n",
      "14/14 - 0s - loss: 1.1911 - accuracy: 0.6878 - 91ms/epoch - 6ms/step\n",
      "Epoch 55/100\n",
      "14/14 - 0s - loss: 1.1557 - accuracy: 0.7254 - 97ms/epoch - 7ms/step\n",
      "Epoch 56/100\n",
      "14/14 - 0s - loss: 1.1476 - accuracy: 0.7230 - 106ms/epoch - 8ms/step\n",
      "Epoch 57/100\n",
      "14/14 - 0s - loss: 1.0854 - accuracy: 0.7277 - 103ms/epoch - 7ms/step\n",
      "Epoch 58/100\n",
      "14/14 - 0s - loss: 1.0635 - accuracy: 0.7441 - 95ms/epoch - 7ms/step\n",
      "Epoch 59/100\n",
      "14/14 - 0s - loss: 1.0273 - accuracy: 0.7559 - 92ms/epoch - 7ms/step\n",
      "Epoch 60/100\n",
      "14/14 - 0s - loss: 1.0203 - accuracy: 0.7653 - 94ms/epoch - 7ms/step\n",
      "Epoch 61/100\n",
      "14/14 - 0s - loss: 0.9703 - accuracy: 0.7934 - 96ms/epoch - 7ms/step\n",
      "Epoch 62/100\n",
      "14/14 - 0s - loss: 0.9617 - accuracy: 0.7817 - 92ms/epoch - 7ms/step\n",
      "Epoch 63/100\n",
      "14/14 - 0s - loss: 0.9194 - accuracy: 0.7911 - 94ms/epoch - 7ms/step\n",
      "Epoch 64/100\n",
      "14/14 - 0s - loss: 0.8955 - accuracy: 0.8005 - 93ms/epoch - 7ms/step\n",
      "Epoch 65/100\n",
      "14/14 - 0s - loss: 0.8897 - accuracy: 0.7934 - 96ms/epoch - 7ms/step\n",
      "Epoch 66/100\n",
      "14/14 - 0s - loss: 0.8397 - accuracy: 0.8099 - 96ms/epoch - 7ms/step\n",
      "Epoch 67/100\n",
      "14/14 - 0s - loss: 0.8136 - accuracy: 0.8286 - 95ms/epoch - 7ms/step\n",
      "Epoch 68/100\n",
      "14/14 - 0s - loss: 0.7807 - accuracy: 0.8545 - 90ms/epoch - 6ms/step\n",
      "Epoch 69/100\n",
      "14/14 - 0s - loss: 0.7660 - accuracy: 0.8521 - 87ms/epoch - 6ms/step\n",
      "Epoch 70/100\n",
      "14/14 - 0s - loss: 0.7388 - accuracy: 0.8615 - 89ms/epoch - 6ms/step\n",
      "Epoch 71/100\n",
      "14/14 - 0s - loss: 0.7088 - accuracy: 0.8756 - 94ms/epoch - 7ms/step\n",
      "Epoch 72/100\n",
      "14/14 - 0s - loss: 0.6935 - accuracy: 0.8803 - 92ms/epoch - 7ms/step\n",
      "Epoch 73/100\n",
      "14/14 - 0s - loss: 0.6729 - accuracy: 0.8756 - 98ms/epoch - 7ms/step\n",
      "Epoch 74/100\n",
      "14/14 - 0s - loss: 0.6450 - accuracy: 0.9061 - 91ms/epoch - 6ms/step\n",
      "Epoch 75/100\n",
      "14/14 - 0s - loss: 0.6456 - accuracy: 0.8991 - 92ms/epoch - 7ms/step\n",
      "Epoch 76/100\n",
      "14/14 - 0s - loss: 0.6140 - accuracy: 0.9061 - 95ms/epoch - 7ms/step\n",
      "Epoch 77/100\n",
      "14/14 - 0s - loss: 0.5917 - accuracy: 0.9178 - 92ms/epoch - 7ms/step\n",
      "Epoch 78/100\n",
      "14/14 - 0s - loss: 0.5762 - accuracy: 0.9202 - 92ms/epoch - 7ms/step\n",
      "Epoch 79/100\n",
      "14/14 - 0s - loss: 0.5483 - accuracy: 0.9343 - 102ms/epoch - 7ms/step\n",
      "Epoch 80/100\n",
      "14/14 - 0s - loss: 0.5451 - accuracy: 0.9085 - 97ms/epoch - 7ms/step\n",
      "Epoch 81/100\n",
      "14/14 - 0s - loss: 0.5093 - accuracy: 0.9390 - 92ms/epoch - 7ms/step\n",
      "Epoch 82/100\n",
      "14/14 - 0s - loss: 0.4978 - accuracy: 0.9319 - 97ms/epoch - 7ms/step\n",
      "Epoch 83/100\n",
      "14/14 - 0s - loss: 0.4868 - accuracy: 0.9437 - 91ms/epoch - 6ms/step\n",
      "Epoch 84/100\n",
      "14/14 - 0s - loss: 0.4724 - accuracy: 0.9460 - 92ms/epoch - 7ms/step\n",
      "Epoch 85/100\n",
      "14/14 - 0s - loss: 0.4442 - accuracy: 0.9531 - 93ms/epoch - 7ms/step\n",
      "Epoch 86/100\n",
      "14/14 - 0s - loss: 0.4231 - accuracy: 0.9601 - 104ms/epoch - 7ms/step\n",
      "Epoch 87/100\n",
      "14/14 - 0s - loss: 0.4331 - accuracy: 0.9554 - 90ms/epoch - 6ms/step\n",
      "Epoch 88/100\n",
      "14/14 - 0s - loss: 0.4274 - accuracy: 0.9531 - 94ms/epoch - 7ms/step\n",
      "Epoch 89/100\n",
      "14/14 - 0s - loss: 0.4059 - accuracy: 0.9624 - 89ms/epoch - 6ms/step\n",
      "Epoch 90/100\n",
      "14/14 - 0s - loss: 0.3846 - accuracy: 0.9624 - 90ms/epoch - 6ms/step\n",
      "Epoch 91/100\n",
      "14/14 - 0s - loss: 0.3752 - accuracy: 0.9671 - 97ms/epoch - 7ms/step\n",
      "Epoch 92/100\n",
      "14/14 - 0s - loss: 0.3667 - accuracy: 0.9648 - 100ms/epoch - 7ms/step\n",
      "Epoch 93/100\n",
      "14/14 - 0s - loss: 0.3510 - accuracy: 0.9648 - 95ms/epoch - 7ms/step\n",
      "Epoch 94/100\n",
      "14/14 - 0s - loss: 0.3322 - accuracy: 0.9695 - 96ms/epoch - 7ms/step\n",
      "Epoch 95/100\n",
      "14/14 - 0s - loss: 0.3266 - accuracy: 0.9718 - 96ms/epoch - 7ms/step\n",
      "Epoch 96/100\n",
      "14/14 - 0s - loss: 0.3090 - accuracy: 0.9695 - 94ms/epoch - 7ms/step\n",
      "Epoch 97/100\n",
      "14/14 - 0s - loss: 0.3066 - accuracy: 0.9742 - 92ms/epoch - 7ms/step\n",
      "Epoch 98/100\n",
      "14/14 - 0s - loss: 0.2935 - accuracy: 0.9742 - 94ms/epoch - 7ms/step\n",
      "Epoch 99/100\n",
      "14/14 - 0s - loss: 0.2943 - accuracy: 0.9742 - 92ms/epoch - 7ms/step\n",
      "Epoch 100/100\n",
      "14/14 - 0s - loss: 0.2805 - accuracy: 0.9789 - 96ms/epoch - 7ms/step\n"
     ]
    },
    {
     "data": {
      "text/plain": [
       "<keras.callbacks.History at 0x7fa1ac22d790>"
      ]
     },
     "execution_count": 36,
     "metadata": {},
     "output_type": "execute_result"
    }
   ],
   "source": [
    "from tensorflow.keras.models import Sequential\n",
    "from tensorflow.keras.layers import Dense, LSTM\n",
    "from tensorflow.keras.preprocessing.sequence import pad_sequences\n",
    "\n",
    "hidden_units = 64\n",
    "\n",
    "model = Sequential()\n",
    "model.add(LSTM(hidden_units, input_shape=(X_data_one_hot.shape[1], X_data_one_hot.shape[2])))\n",
    "model.add(Dense(vocab_size, activation='softmax'))\n",
    "\n",
    "model.compile(loss='categorical_crossentropy', optimizer='adam', metrics=['accuracy'])\n",
    "model.fit(X_data_one_hot, y_data_one_hot, epochs=100, verbose=2)"
   ]
  },
  {
   "cell_type": "code",
   "execution_count": 38,
   "metadata": {},
   "outputs": [],
   "source": [
    "def sentence_generation(model, char_to_index, seq_length, seed_text, n):\n",
    "\n",
    "    # 초기 시퀀스\n",
    "    init_text = seed_text\n",
    "    sentence = ''\n",
    "\n",
    "    # 다음 문자 예측은 총 n번만 반복.\n",
    "    for _ in range(n):\n",
    "        encoded = [char_to_index[char] for char in seed_text] # 현재 시퀀스에 대한 정수 인코딩\n",
    "        encoded = pad_sequences([encoded], maxlen=seq_length, padding='pre') # 데이터에 대한 패딩\n",
    "        encoded = to_categorical(encoded, num_classes=len(char_to_index))\n",
    "\n",
    "        # 입력한 X(현재 시퀀스)에 대해서 y를 예측하고 y(예측한 문자)를 result에 저장.\n",
    "        result = model.predict(encoded, verbose=0)\n",
    "        result = np.argmax(result, axis=1)\n",
    "\n",
    "        for char, index in char_to_index.items():\n",
    "            if index == result:\n",
    "                break\n",
    "\n",
    "        # 현재 시퀀스 + 예측 문자를 현재 시퀀스로 변경\n",
    "        seed_text = seed_text + char\n",
    "\n",
    "        # 예측 문자를 문장에 저장\n",
    "        sentence = sentence + char\n",
    "\n",
    "    # n번의 다음 문자 예측이 끝나면 최종 완성된 문장을 리턴.\n",
    "    sentence = init_text + sentence\n",
    "    return sentence"
   ]
  },
  {
   "cell_type": "code",
   "execution_count": 39,
   "metadata": {},
   "outputs": [
    {
     "name": "stdout",
     "output_type": "stream",
     "text": [
      "I get on with life as a programmer, I like to hang out with programming and deep learning.\n"
     ]
    }
   ],
   "source": [
    "print(sentence_generation(model, char_to_index, 10, 'I get on w', 80))"
   ]
  }
 ],
 "metadata": {
  "kernelspec": {
   "display_name": "Python 3",
   "language": "python",
   "name": "python3"
  },
  "language_info": {
   "codemirror_mode": {
    "name": "ipython",
    "version": 3
   },
   "file_extension": ".py",
   "mimetype": "text/x-python",
   "name": "python",
   "nbconvert_exporter": "python",
   "pygments_lexer": "ipython3",
   "version": "3.8.10"
  },
  "orig_nbformat": 4
 },
 "nbformat": 4,
 "nbformat_minor": 2
}
