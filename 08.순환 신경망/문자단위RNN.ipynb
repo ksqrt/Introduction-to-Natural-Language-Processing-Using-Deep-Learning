{
 "cells": [
  {
   "attachments": {},
   "cell_type": "markdown",
   "metadata": {},
   "source": [
    "문자단위 RNN 언어모델\n"
   ]
  },
  {
   "cell_type": "code",
   "execution_count": 2,
   "metadata": {},
   "outputs": [],
   "source": [
    "#기초 라이브러리 임포트\n",
    "import numpy as np\n",
    "import urllib.request\n",
    "from tensorflow.keras.utils import to_categorical\n"
   ]
  },
  {
   "attachments": {},
   "cell_type": "markdown",
   "metadata": {},
   "source": [
    "데이터 불러오기 \n",
    "\n",
    "이상한나라의 엘리스 \n"
   ]
  },
  {
   "cell_type": "code",
   "execution_count": 4,
   "metadata": {},
   "outputs": [],
   "source": [
    "# urllib 패키지는 외부 url 을 이용해 인터넷 리소스를 가지고 올 수 있음\n",
    "\n",
    "# 데이터 로드 \n",
    "urllib.request.urlretrieve(\"http://www.gutenberg.org/files/11/11-0.txt\",filename =\"11-0.txt\")\n",
    "\n"
   ]
  },
  {
   "cell_type": "code",
   "execution_count": 5,
   "metadata": {},
   "outputs": [],
   "source": [
    "f = open('11-0.txt', 'rb')\n",
    "sentences = []\n",
    "for sentence in f: # 데이터로부터 한 줄씩 읽는다.\n",
    "    sentence = sentence.strip() # strip()을 통해 \\r, \\n을 제거한다.\n",
    "    sentence = sentence.lower() # 소문자화.\n",
    "    sentence = sentence.decode('ascii', 'ignore') # \\xe2\\x80\\x99 등과 같은 바이트 열 제거\n",
    "    if len(sentence) > 0:\n",
    "        sentences.append(sentence)\n",
    "f.close()\n"
   ]
  },
  {
   "cell_type": "code",
   "execution_count": 6,
   "metadata": {},
   "outputs": [
    {
     "data": {
      "text/plain": [
       "['the project gutenberg ebook of alices adventures in wonderland, by lewis carroll',\n",
       " 'this ebook is for the use of anyone anywhere in the united states and',\n",
       " 'most other parts of the world at no cost and with almost no restrictions',\n",
       " 'whatsoever. you may copy it, give it away or re-use it under the terms',\n",
       " 'of the project gutenberg license included with this ebook or online at']"
      ]
     },
     "execution_count": 6,
     "metadata": {},
     "output_type": "execute_result"
    }
   ],
   "source": [
    "sentences[:5]"
   ]
  },
  {
   "cell_type": "code",
   "execution_count": 7,
   "metadata": {},
   "outputs": [
    {
     "name": "stdout",
     "output_type": "stream",
     "text": [
      "문자열의 길이 또는 총 문자의 개수: 159484\n"
     ]
    }
   ],
   "source": [
    "total_data = ' '.join(sentences)\n",
    "print('문자열의 길이 또는 총 문자의 개수: %d' % len(total_data))"
   ]
  },
  {
   "cell_type": "code",
   "execution_count": 8,
   "metadata": {},
   "outputs": [
    {
     "name": "stdout",
     "output_type": "stream",
     "text": [
      "the project gutenberg ebook of alices adventures in wonderland, by lewis carroll this ebook is for the use of anyone anywhere in the united states and most other parts of the world at no cost and with\n"
     ]
    }
   ],
   "source": [
    "print(total_data[:200])"
   ]
  },
  {
   "cell_type": "code",
   "execution_count": 19,
   "metadata": {},
   "outputs": [
    {
     "name": "stdout",
     "output_type": "stream",
     "text": [
      "문자 집합의 크기  56\n"
     ]
    }
   ],
   "source": [
    "# 중복을 제거한 문자 집합\n",
    "char_vocab = sorted(list(set(total_data)))\n",
    "\n",
    "vocab_size = len(char_vocab)\n",
    "print(\"문자 집합의 크기 \", vocab_size) "
   ]
  },
  {
   "cell_type": "code",
   "execution_count": 23,
   "metadata": {},
   "outputs": [
    {
     "name": "stdout",
     "output_type": "stream",
     "text": [
      "{' ': 0, '!': 1, '\"': 2, '#': 3, '$': 4, '%': 5, \"'\": 6, '(': 7, ')': 8, '*': 9, ',': 10, '-': 11, '.': 12, '/': 13, '0': 14, '1': 15, '2': 16, '3': 17, '4': 18, '5': 19, '6': 20, '7': 21, '8': 22, '9': 23, ':': 24, ';': 25, '?': 26, '[': 27, ']': 28, '_': 29, 'a': 30, 'b': 31, 'c': 32, 'd': 33, 'e': 34, 'f': 35, 'g': 36, 'h': 37, 'i': 38, 'j': 39, 'k': 40, 'l': 41, 'm': 42, 'n': 43, 'o': 44, 'p': 45, 'q': 46, 'r': 47, 's': 48, 't': 49, 'u': 50, 'v': 51, 'w': 52, 'x': 53, 'y': 54, 'z': 55}\n"
     ]
    }
   ],
   "source": [
    "char_to_index = dict((char,index) for index, char in enumerate(char_vocab))\n",
    "\n",
    "print(char_to_index)"
   ]
  },
  {
   "cell_type": "code",
   "execution_count": 24,
   "metadata": {},
   "outputs": [],
   "source": [
    "index_to_char = {}\n",
    "for key, value in char_to_index.items():\n",
    "    index_to_char[value] = key"
   ]
  },
  {
   "cell_type": "code",
   "execution_count": 26,
   "metadata": {},
   "outputs": [
    {
     "data": {
      "text/plain": [
       "{0: ' ',\n",
       " 1: '!',\n",
       " 2: '\"',\n",
       " 3: '#',\n",
       " 4: '$',\n",
       " 5: '%',\n",
       " 6: \"'\",\n",
       " 7: '(',\n",
       " 8: ')',\n",
       " 9: '*',\n",
       " 10: ',',\n",
       " 11: '-',\n",
       " 12: '.',\n",
       " 13: '/',\n",
       " 14: '0',\n",
       " 15: '1',\n",
       " 16: '2',\n",
       " 17: '3',\n",
       " 18: '4',\n",
       " 19: '5',\n",
       " 20: '6',\n",
       " 21: '7',\n",
       " 22: '8',\n",
       " 23: '9',\n",
       " 24: ':',\n",
       " 25: ';',\n",
       " 26: '?',\n",
       " 27: '[',\n",
       " 28: ']',\n",
       " 29: '_',\n",
       " 30: 'a',\n",
       " 31: 'b',\n",
       " 32: 'c',\n",
       " 33: 'd',\n",
       " 34: 'e',\n",
       " 35: 'f',\n",
       " 36: 'g',\n",
       " 37: 'h',\n",
       " 38: 'i',\n",
       " 39: 'j',\n",
       " 40: 'k',\n",
       " 41: 'l',\n",
       " 42: 'm',\n",
       " 43: 'n',\n",
       " 44: 'o',\n",
       " 45: 'p',\n",
       " 46: 'q',\n",
       " 47: 'r',\n",
       " 48: 's',\n",
       " 49: 't',\n",
       " 50: 'u',\n",
       " 51: 'v',\n",
       " 52: 'w',\n",
       " 53: 'x',\n",
       " 54: 'y',\n",
       " 55: 'z'}"
      ]
     },
     "execution_count": 26,
     "metadata": {},
     "output_type": "execute_result"
    }
   ],
   "source": [
    "train_X = 'appl'\n",
    "\n",
    "train_y = 'pple'"
   ]
  }
 ],
 "metadata": {
  "kernelspec": {
   "display_name": "Python 3",
   "language": "python",
   "name": "python3"
  },
  "language_info": {
   "codemirror_mode": {
    "name": "ipython",
    "version": 3
   },
   "file_extension": ".py",
   "mimetype": "text/x-python",
   "name": "python",
   "nbconvert_exporter": "python",
   "pygments_lexer": "ipython3",
   "version": "3.8.10"
  },
  "orig_nbformat": 4
 },
 "nbformat": 4,
 "nbformat_minor": 2
}
